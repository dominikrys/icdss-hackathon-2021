{
 "cells": [
  {
   "cell_type": "code",
   "execution_count": null,
   "id": "married-arbitration",
   "metadata": {},
   "outputs": [],
   "source": [
    "import pandas as pd\n",
    "import matplotlib.pyplot as plt\n",
    "import zipfile\n",
    "with zipfile.ZipFile('/data/stormdata.csv.zip', 'r') as zip_ref:\n",
    "    zip_ref.extractall('crops_yield')"
   ]
  },
  {
   "cell_type": "code",
   "execution_count": null,
   "id": "above-taiwan",
   "metadata": {},
   "outputs": [],
   "source": [
    "df = pd.read_csv(\"stormdata.csv\")\n",
    "df = df[df[\"STATE\"]==\"ILLINOIS\"]"
   ]
  }
 ],
 "metadata": {
  "kernelspec": {
   "display_name": "Python 3",
   "language": "python",
   "name": "python3"
  },
  "language_info": {
   "codemirror_mode": {
    "name": "ipython",
    "version": 3
   },
   "file_extension": ".py",
   "mimetype": "text/x-python",
   "name": "python",
   "nbconvert_exporter": "python",
   "pygments_lexer": "ipython3",
   "version": "3.7.10"
  }
 },
 "nbformat": 4,
 "nbformat_minor": 5
}
